{
 "cells": [
  {
   "cell_type": "code",
   "execution_count": null,
   "metadata": {},
   "outputs": [],
   "source": [
    "import pandas as pd\n",
    "import numpy as np\n",
    "\n",
    "import matplotlib.pyplot as plt\n",
    "import seaborn as sns\n",
    "crunch = [\"#10069F\", \"#11FF9B\", \"#7F7F7F\", \"#E10098\",\"#E7E6E6\", \"#440099\"] # Blue - Green - Gray - Pink - Light Grey - Purple\n",
    "sns.set_palette(crunch)\n",
    "from matplotlib.pylab import rcParams\n",
    "rcParams['figure.figsize'] = 20, 10"
   ]
  },
  {
   "cell_type": "code",
   "execution_count": null,
   "metadata": {},
   "outputs": [],
   "source": [
    "def normalize_per_row(df:pd.DataFrame)->pd.DataFrame:\n",
    "  return df.apply(lambda row:row/row.sum() if (row.sum() != 0) else row, axis=1)"
   ]
  },
  {
   "cell_type": "code",
   "execution_count": null,
   "metadata": {},
   "outputs": [],
   "source": [
    "df_sales = pd.read_gbq(\"SELECT * FROM `everest-testing-ground.raw_data.sales`\", project_id=\"everest-testing-ground\", use_bqstorage_api=True)\n",
    "df_brands = pd.read_gbq(\"SELECT * FROM `everest-testing-ground.raw_data.brandmap`\", project_id=\"everest-testing-ground\", use_bqstorage_api=True)\n",
    "df_to_distribute = pd.read_gbq(\"SELECT * FROM `everest-testing-ground.raw_data.to_distribute`\", project_id=\"everest-testing-ground\", use_bqstorage_api=True)\n",
    "df_product_groups = pd.read_gbq(\"SELECT * FROM `everest-testing-ground.raw_data.productgroupmap`\", project_id=\"everest-testing-ground\", use_bqstorage_api=True)\n",
    "\n",
    "df_sales=df_sales.merge(df_brands, on='product_id',how='left')"
   ]
  },
  {
   "cell_type": "code",
   "execution_count": null,
   "metadata": {},
   "outputs": [],
   "source": [
    "# Compute sales totals per product per shop\n",
    "df_product_sales = df_sales.groupby(['product_id', 'stock_location_id'])['sales_amount'].sum().unstack(fill_value=0)\n",
    "\n",
    "# Compute sales totals per brand per shop\n",
    "df_brand_sales = df_sales.groupby(['brand', 'stock_location_id'])['sales_amount'].sum().unstack(fill_value=0)\n",
    "\n",
    "# Distributionmatrix based on products sold per shop\n",
    "df_productlevel = df_to_distribute.drop('initial_total_stock', axis=1).merge(df_product_sales, on='product_id', how='left').fillna(0).set_index('product_id')\n",
    "\n",
    "# Distributionmatrix based on brands sold per shop\n",
    "df_brandlevel = df_to_distribute.drop('initial_total_stock', axis=1).merge(df_brands, on='product_id', how='left').merge(df_brand_sales, on='brand', how='left').fillna(0).drop('brand', axis=1).set_index('product_id')\n",
    "\n",
    "# Distributionmatrix based on items sold per shop\n",
    "df_shoplevel = pd.DataFrame(index=df_to_distribute.product_id,columns=df_brandlevel.columns) \n",
    "for shop in df_shoplevel.columns:\n",
    "  df_shoplevel[shop] = df_sales.loc[df_sales.stock_location_id==shop]['sales_amount'].sum()\n",
    "\n",
    "# Normalize data\n",
    "df_productlevel = normalize_per_row(df_productlevel)\n",
    "df_brandlevel = normalize_per_row(df_brandlevel)\n",
    "df_shoplevel = normalize_per_row(df_shoplevel) \n",
    "\n",
    "display(df_productlevel)\n",
    "display(df_brandlevel)\n",
    "display(df_shoplevel)"
   ]
  },
  {
   "cell_type": "code",
   "execution_count": null,
   "metadata": {},
   "outputs": [],
   "source": [
    "w_p = 5 # Weight of the productlevel\n",
    "w_b = 6 # Weight of the brandlevel\n",
    "w_s = 10 # Weight of the shoplevel\n",
    "\n",
    "# Add all normalized and weighted distribution matrices\n",
    "df_dist = w_p*df_productlevel + w_b*df_brandlevel + w_s*df_shoplevel \n",
    "\n",
    "# Normalize end result per row\n",
    "df_dist = normalize_per_row(df_dist)\n",
    "\n",
    "# Final distribution matrix\n",
    "display(df_dist) "
   ]
  },
  {
   "cell_type": "code",
   "execution_count": null,
   "metadata": {},
   "outputs": [],
   "source": [
    "# Calculate final distribution based on distributionmatrix\n",
    "\n",
    "df_result = df_dist.mul(df_to_distribute.set_index('product_id')['initial_total_stock'], axis=0).round()\n",
    "df_result.columns = [f\"shop_{col}\" for col in df_result.columns]\n",
    "display(df_result)"
   ]
  },
  {
   "cell_type": "code",
   "execution_count": null,
   "metadata": {},
   "outputs": [],
   "source": [
    "test_product = df_result.sample()\n",
    "plt.bar(test_product.columns.astype(str),test_product.iloc[0].values)\n",
    "plt.title(\"Product: \" + test_product.index[0]+\", # to distribute: \" + str(int(test_product.sum(axis=1))))"
   ]
  },
  {
   "cell_type": "code",
   "execution_count": null,
   "metadata": {},
   "outputs": [],
   "source": [
    "df_result.reset_index().to_gbq(destination_table=\"dataset_output.product_distributions\")"
   ]
  }
 ],
 "metadata": {
  "kernelspec": {
   "display_name": "app-gFS5nYpE",
   "language": "python",
   "name": "python3"
  },
  "language_info": {
   "codemirror_mode": {
    "name": "ipython",
    "version": 3
   },
   "file_extension": ".py",
   "mimetype": "text/x-python",
   "name": "python",
   "nbconvert_exporter": "python",
   "pygments_lexer": "ipython3",
   "version": "3.9.2 (default, Feb 28 2021, 17:03:44) \n[GCC 10.2.1 20210110]"
  },
  "orig_nbformat": 4,
  "vscode": {
   "interpreter": {
    "hash": "f7566f5430ecfa943aafa29a2e4b88b14b879b96b2274a19f92675d2a8bacd3d"
   }
  }
 },
 "nbformat": 4,
 "nbformat_minor": 2
}
